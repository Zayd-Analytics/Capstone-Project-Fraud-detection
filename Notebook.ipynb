{
 "cells": [
  {
   "cell_type": "markdown",
   "id": "03fe24f7",
   "metadata": {},
   "source": [
    "\n",
    "# 📊 Capstone Project — Machine Learning Model Implementation\n",
    "\n",
    "This notebook presents the **end-to-end process** of building, training, and evaluating a Machine Learning model.  \n",
    "It follows a structured data science workflow, focusing on data understanding, preprocessing, feature engineering, model training, and performance evaluation.\n",
    "\n",
    "---\n"
   ]
  },
  {
   "cell_type": "markdown",
   "id": "135cd5b3",
   "metadata": {},
   "source": [
    "### Why we use **Recall** as the primary comparison metric\n",
    "\n",
    "This fraud-detection problem is a high-cost *false negative* scenario: failing to detect a fraudulent transaction allows financial loss and user harm, while a false positive can be investigated. Recall (`TP / (TP + FN)`) measures the proportion of actual fraud cases the model catches. Therefore we prioritize **maximizing validation recall** when choosing the final model, then check precision / F1 / ROC-AUC to ensure the model is still useful."
   ]
  },
  {
   "cell_type": "markdown",
   "id": "8665d48e",
   "metadata": {},
   "source": [
    "###  Cell 1: Imports & Data Load\n",
    "\n",
    "- Imported libraries for data handling, modeling, and evaluation.\n",
    "- Loaded `fraud_data.csv` into a DataFrame.\n",
    "- Displayed shape and preview of the dataset.\n",
    "\n",
    "\n"
   ]
  },
  {
   "cell_type": "code",
   "execution_count": 28,
   "id": "2231b98e",
   "metadata": {},
   "outputs": [
    {
     "name": "stdout",
     "output_type": "stream",
     "text": [
      "Loaded dataset with shape: (11142, 10)\n"
     ]
    },
    {
     "data": {
      "text/html": [
       "<div>\n",
       "<style scoped>\n",
       "    .dataframe tbody tr th:only-of-type {\n",
       "        vertical-align: middle;\n",
       "    }\n",
       "\n",
       "    .dataframe tbody tr th {\n",
       "        vertical-align: top;\n",
       "    }\n",
       "\n",
       "    .dataframe thead th {\n",
       "        text-align: right;\n",
       "    }\n",
       "</style>\n",
       "<table border=\"1\" class=\"dataframe\">\n",
       "  <thead>\n",
       "    <tr style=\"text-align: right;\">\n",
       "      <th></th>\n",
       "      <th>step</th>\n",
       "      <th>type</th>\n",
       "      <th>amount</th>\n",
       "      <th>nameOrig</th>\n",
       "      <th>oldbalanceOrg</th>\n",
       "      <th>newbalanceOrig</th>\n",
       "      <th>nameDest</th>\n",
       "      <th>oldbalanceDest</th>\n",
       "      <th>newbalanceDest</th>\n",
       "      <th>isFraud</th>\n",
       "    </tr>\n",
       "  </thead>\n",
       "  <tbody>\n",
       "    <tr>\n",
       "      <th>0</th>\n",
       "      <td>1</td>\n",
       "      <td>TRANSFER</td>\n",
       "      <td>181.0</td>\n",
       "      <td>C1305486145</td>\n",
       "      <td>181.0</td>\n",
       "      <td>0.0</td>\n",
       "      <td>C553264065</td>\n",
       "      <td>0.0</td>\n",
       "      <td>0.0</td>\n",
       "      <td>1</td>\n",
       "    </tr>\n",
       "    <tr>\n",
       "      <th>1</th>\n",
       "      <td>1</td>\n",
       "      <td>CASH_OUT</td>\n",
       "      <td>181.0</td>\n",
       "      <td>C840083671</td>\n",
       "      <td>181.0</td>\n",
       "      <td>0.0</td>\n",
       "      <td>C38997010</td>\n",
       "      <td>21182.0</td>\n",
       "      <td>0.0</td>\n",
       "      <td>1</td>\n",
       "    </tr>\n",
       "    <tr>\n",
       "      <th>2</th>\n",
       "      <td>1</td>\n",
       "      <td>TRANSFER</td>\n",
       "      <td>2806.0</td>\n",
       "      <td>C1420196421</td>\n",
       "      <td>2806.0</td>\n",
       "      <td>0.0</td>\n",
       "      <td>C972765878</td>\n",
       "      <td>0.0</td>\n",
       "      <td>0.0</td>\n",
       "      <td>1</td>\n",
       "    </tr>\n",
       "    <tr>\n",
       "      <th>3</th>\n",
       "      <td>1</td>\n",
       "      <td>CASH_OUT</td>\n",
       "      <td>2806.0</td>\n",
       "      <td>C2101527076</td>\n",
       "      <td>2806.0</td>\n",
       "      <td>0.0</td>\n",
       "      <td>C1007251739</td>\n",
       "      <td>26202.0</td>\n",
       "      <td>0.0</td>\n",
       "      <td>1</td>\n",
       "    </tr>\n",
       "    <tr>\n",
       "      <th>4</th>\n",
       "      <td>1</td>\n",
       "      <td>TRANSFER</td>\n",
       "      <td>20128.0</td>\n",
       "      <td>C137533655</td>\n",
       "      <td>20128.0</td>\n",
       "      <td>0.0</td>\n",
       "      <td>C1848415041</td>\n",
       "      <td>0.0</td>\n",
       "      <td>0.0</td>\n",
       "      <td>1</td>\n",
       "    </tr>\n",
       "  </tbody>\n",
       "</table>\n",
       "</div>"
      ],
      "text/plain": [
       "   step      type   amount     nameOrig  oldbalanceOrg  newbalanceOrig  \\\n",
       "0     1  TRANSFER    181.0  C1305486145          181.0             0.0   \n",
       "1     1  CASH_OUT    181.0   C840083671          181.0             0.0   \n",
       "2     1  TRANSFER   2806.0  C1420196421         2806.0             0.0   \n",
       "3     1  CASH_OUT   2806.0  C2101527076         2806.0             0.0   \n",
       "4     1  TRANSFER  20128.0   C137533655        20128.0             0.0   \n",
       "\n",
       "      nameDest  oldbalanceDest  newbalanceDest  isFraud  \n",
       "0   C553264065             0.0             0.0        1  \n",
       "1    C38997010         21182.0             0.0        1  \n",
       "2   C972765878             0.0             0.0        1  \n",
       "3  C1007251739         26202.0             0.0        1  \n",
       "4  C1848415041             0.0             0.0        1  "
      ]
     },
     "execution_count": 28,
     "metadata": {},
     "output_type": "execute_result"
    }
   ],
   "source": [
    "# Imports and load dataset\n",
    "import pandas as pd, numpy as np, os\n",
    "from sklearn.model_selection import train_test_split\n",
    "from sklearn.preprocessing import OneHotEncoder, StandardScaler\n",
    "from sklearn.linear_model import LogisticRegression\n",
    "from sklearn.ensemble import RandomForestClassifier\n",
    "from xgboost import XGBClassifier\n",
    "from imblearn.over_sampling import SMOTE\n",
    "from sklearn.metrics import confusion_matrix, classification_report, roc_auc_score, precision_score, recall_score, f1_score\n",
    "import joblib\n",
    "from datetime import datetime\n",
    "\n",
    "DATA_PATH = \"fraud_data.csv\"\n",
    "df = pd.read_csv(DATA_PATH)\n",
    "print(f\"Loaded dataset with shape: {df.shape}\") \n",
    "df.head()"
   ]
  },
  {
   "cell_type": "markdown",
   "id": "40913896",
   "metadata": {},
   "source": [
    "### Cell 2: Exploratory Data Analysis (EDA)\n",
    "\n",
    "Before modeling, we perform a quick data understanding to identify data types, missing values, class imbalance, and potential anomalies."
   ]
  },
  {
   "cell_type": "code",
   "execution_count": 29,
   "id": "377293b6",
   "metadata": {},
   "outputs": [
    {
     "data": {
      "text/html": [
       "<div>\n",
       "<style scoped>\n",
       "    .dataframe tbody tr th:only-of-type {\n",
       "        vertical-align: middle;\n",
       "    }\n",
       "\n",
       "    .dataframe tbody tr th {\n",
       "        vertical-align: top;\n",
       "    }\n",
       "\n",
       "    .dataframe thead th {\n",
       "        text-align: right;\n",
       "    }\n",
       "</style>\n",
       "<table border=\"1\" class=\"dataframe\">\n",
       "  <thead>\n",
       "    <tr style=\"text-align: right;\">\n",
       "      <th></th>\n",
       "      <th>step</th>\n",
       "      <th>type</th>\n",
       "      <th>amount</th>\n",
       "      <th>nameOrig</th>\n",
       "      <th>oldbalanceOrg</th>\n",
       "      <th>newbalanceOrig</th>\n",
       "      <th>nameDest</th>\n",
       "      <th>oldbalanceDest</th>\n",
       "      <th>newbalanceDest</th>\n",
       "      <th>isFraud</th>\n",
       "    </tr>\n",
       "  </thead>\n",
       "  <tbody>\n",
       "    <tr>\n",
       "      <th>0</th>\n",
       "      <td>1</td>\n",
       "      <td>TRANSFER</td>\n",
       "      <td>181.0</td>\n",
       "      <td>C1305486145</td>\n",
       "      <td>181.0</td>\n",
       "      <td>0.0</td>\n",
       "      <td>C553264065</td>\n",
       "      <td>0.0</td>\n",
       "      <td>0.0</td>\n",
       "      <td>1</td>\n",
       "    </tr>\n",
       "    <tr>\n",
       "      <th>1</th>\n",
       "      <td>1</td>\n",
       "      <td>CASH_OUT</td>\n",
       "      <td>181.0</td>\n",
       "      <td>C840083671</td>\n",
       "      <td>181.0</td>\n",
       "      <td>0.0</td>\n",
       "      <td>C38997010</td>\n",
       "      <td>21182.0</td>\n",
       "      <td>0.0</td>\n",
       "      <td>1</td>\n",
       "    </tr>\n",
       "    <tr>\n",
       "      <th>2</th>\n",
       "      <td>1</td>\n",
       "      <td>TRANSFER</td>\n",
       "      <td>2806.0</td>\n",
       "      <td>C1420196421</td>\n",
       "      <td>2806.0</td>\n",
       "      <td>0.0</td>\n",
       "      <td>C972765878</td>\n",
       "      <td>0.0</td>\n",
       "      <td>0.0</td>\n",
       "      <td>1</td>\n",
       "    </tr>\n",
       "    <tr>\n",
       "      <th>3</th>\n",
       "      <td>1</td>\n",
       "      <td>CASH_OUT</td>\n",
       "      <td>2806.0</td>\n",
       "      <td>C2101527076</td>\n",
       "      <td>2806.0</td>\n",
       "      <td>0.0</td>\n",
       "      <td>C1007251739</td>\n",
       "      <td>26202.0</td>\n",
       "      <td>0.0</td>\n",
       "      <td>1</td>\n",
       "    </tr>\n",
       "    <tr>\n",
       "      <th>4</th>\n",
       "      <td>1</td>\n",
       "      <td>TRANSFER</td>\n",
       "      <td>20128.0</td>\n",
       "      <td>C137533655</td>\n",
       "      <td>20128.0</td>\n",
       "      <td>0.0</td>\n",
       "      <td>C1848415041</td>\n",
       "      <td>0.0</td>\n",
       "      <td>0.0</td>\n",
       "      <td>1</td>\n",
       "    </tr>\n",
       "  </tbody>\n",
       "</table>\n",
       "</div>"
      ],
      "text/plain": [
       "   step      type   amount     nameOrig  oldbalanceOrg  newbalanceOrig  \\\n",
       "0     1  TRANSFER    181.0  C1305486145          181.0             0.0   \n",
       "1     1  CASH_OUT    181.0   C840083671          181.0             0.0   \n",
       "2     1  TRANSFER   2806.0  C1420196421         2806.0             0.0   \n",
       "3     1  CASH_OUT   2806.0  C2101527076         2806.0             0.0   \n",
       "4     1  TRANSFER  20128.0   C137533655        20128.0             0.0   \n",
       "\n",
       "      nameDest  oldbalanceDest  newbalanceDest  isFraud  \n",
       "0   C553264065             0.0             0.0        1  \n",
       "1    C38997010         21182.0             0.0        1  \n",
       "2   C972765878             0.0             0.0        1  \n",
       "3  C1007251739         26202.0             0.0        1  \n",
       "4  C1848415041             0.0             0.0        1  "
      ]
     },
     "metadata": {},
     "output_type": "display_data"
    },
    {
     "data": {
      "text/html": [
       "<div>\n",
       "<style scoped>\n",
       "    .dataframe tbody tr th:only-of-type {\n",
       "        vertical-align: middle;\n",
       "    }\n",
       "\n",
       "    .dataframe tbody tr th {\n",
       "        vertical-align: top;\n",
       "    }\n",
       "\n",
       "    .dataframe thead th {\n",
       "        text-align: right;\n",
       "    }\n",
       "</style>\n",
       "<table border=\"1\" class=\"dataframe\">\n",
       "  <thead>\n",
       "    <tr style=\"text-align: right;\">\n",
       "      <th></th>\n",
       "      <th>step</th>\n",
       "      <th>amount</th>\n",
       "      <th>oldbalanceOrg</th>\n",
       "      <th>newbalanceOrig</th>\n",
       "      <th>oldbalanceDest</th>\n",
       "      <th>newbalanceDest</th>\n",
       "      <th>isFraud</th>\n",
       "    </tr>\n",
       "  </thead>\n",
       "  <tbody>\n",
       "    <tr>\n",
       "      <th>count</th>\n",
       "      <td>11142.000000</td>\n",
       "      <td>1.114200e+04</td>\n",
       "      <td>1.114200e+04</td>\n",
       "      <td>1.114200e+04</td>\n",
       "      <td>1.114200e+04</td>\n",
       "      <td>1.114200e+04</td>\n",
       "      <td>11142.000000</td>\n",
       "    </tr>\n",
       "    <tr>\n",
       "      <th>mean</th>\n",
       "      <td>8.717645</td>\n",
       "      <td>2.131915e+05</td>\n",
       "      <td>9.241173e+05</td>\n",
       "      <td>8.249576e+05</td>\n",
       "      <td>8.883541e+05</td>\n",
       "      <td>1.103211e+06</td>\n",
       "      <td>0.102495</td>\n",
       "    </tr>\n",
       "    <tr>\n",
       "      <th>std</th>\n",
       "      <td>16.067479</td>\n",
       "      <td>7.600650e+05</td>\n",
       "      <td>2.143004e+06</td>\n",
       "      <td>2.089894e+06</td>\n",
       "      <td>2.601376e+06</td>\n",
       "      <td>2.982447e+06</td>\n",
       "      <td>0.303312</td>\n",
       "    </tr>\n",
       "    <tr>\n",
       "      <th>min</th>\n",
       "      <td>1.000000</td>\n",
       "      <td>2.390000e+00</td>\n",
       "      <td>0.000000e+00</td>\n",
       "      <td>0.000000e+00</td>\n",
       "      <td>0.000000e+00</td>\n",
       "      <td>0.000000e+00</td>\n",
       "      <td>0.000000</td>\n",
       "    </tr>\n",
       "    <tr>\n",
       "      <th>25%</th>\n",
       "      <td>2.000000</td>\n",
       "      <td>4.946618e+03</td>\n",
       "      <td>4.270000e+02</td>\n",
       "      <td>0.000000e+00</td>\n",
       "      <td>0.000000e+00</td>\n",
       "      <td>0.000000e+00</td>\n",
       "      <td>0.000000</td>\n",
       "    </tr>\n",
       "    <tr>\n",
       "      <th>50%</th>\n",
       "      <td>6.000000</td>\n",
       "      <td>1.676126e+04</td>\n",
       "      <td>2.816950e+04</td>\n",
       "      <td>4.420605e+03</td>\n",
       "      <td>0.000000e+00</td>\n",
       "      <td>0.000000e+00</td>\n",
       "      <td>0.000000</td>\n",
       "    </tr>\n",
       "    <tr>\n",
       "      <th>75%</th>\n",
       "      <td>7.000000</td>\n",
       "      <td>1.543366e+05</td>\n",
       "      <td>3.040855e+05</td>\n",
       "      <td>1.114126e+05</td>\n",
       "      <td>2.711555e+05</td>\n",
       "      <td>3.186374e+05</td>\n",
       "      <td>0.000000</td>\n",
       "    </tr>\n",
       "    <tr>\n",
       "      <th>max</th>\n",
       "      <td>95.000000</td>\n",
       "      <td>1.000000e+07</td>\n",
       "      <td>1.990000e+07</td>\n",
       "      <td>1.300000e+07</td>\n",
       "      <td>3.300000e+07</td>\n",
       "      <td>3.460000e+07</td>\n",
       "      <td>1.000000</td>\n",
       "    </tr>\n",
       "  </tbody>\n",
       "</table>\n",
       "</div>"
      ],
      "text/plain": [
       "               step        amount  oldbalanceOrg  newbalanceOrig  \\\n",
       "count  11142.000000  1.114200e+04   1.114200e+04    1.114200e+04   \n",
       "mean       8.717645  2.131915e+05   9.241173e+05    8.249576e+05   \n",
       "std       16.067479  7.600650e+05   2.143004e+06    2.089894e+06   \n",
       "min        1.000000  2.390000e+00   0.000000e+00    0.000000e+00   \n",
       "25%        2.000000  4.946618e+03   4.270000e+02    0.000000e+00   \n",
       "50%        6.000000  1.676126e+04   2.816950e+04    4.420605e+03   \n",
       "75%        7.000000  1.543366e+05   3.040855e+05    1.114126e+05   \n",
       "max       95.000000  1.000000e+07   1.990000e+07    1.300000e+07   \n",
       "\n",
       "       oldbalanceDest  newbalanceDest       isFraud  \n",
       "count    1.114200e+04    1.114200e+04  11142.000000  \n",
       "mean     8.883541e+05    1.103211e+06      0.102495  \n",
       "std      2.601376e+06    2.982447e+06      0.303312  \n",
       "min      0.000000e+00    0.000000e+00      0.000000  \n",
       "25%      0.000000e+00    0.000000e+00      0.000000  \n",
       "50%      0.000000e+00    0.000000e+00      0.000000  \n",
       "75%      2.711555e+05    3.186374e+05      0.000000  \n",
       "max      3.300000e+07    3.460000e+07      1.000000  "
      ]
     },
     "metadata": {},
     "output_type": "display_data"
    },
    {
     "name": "stdout",
     "output_type": "stream",
     "text": [
      "\n",
      "Missing Values:\n",
      " step              0\n",
      "type              0\n",
      "amount            0\n",
      "nameOrig          0\n",
      "oldbalanceOrg     0\n",
      "newbalanceOrig    0\n",
      "nameDest          0\n",
      "oldbalanceDest    0\n",
      "newbalanceDest    0\n",
      "isFraud           0\n",
      "dtype: int64\n",
      "\n",
      "Class Distribution:\n",
      " isFraud\n",
      "0    0.897505\n",
      "1    0.102495\n",
      "Name: proportion, dtype: float64\n"
     ]
    },
    {
     "data": {
      "image/png": "[encoded data removed]",
      "text/plain": [
       "<Figure size 500x400 with 1 Axes>"
      ]
     },
     "metadata": {},
     "output_type": "display_data"
    }
   ],
   "source": [
    "# Basic overview of dataset\n",
    "display(df.head())\n",
    "\n",
    "# Statistical summary for numeric features\n",
    "display(df.describe())\n",
    "\n",
    "# Check class distribution and missing values\n",
    "print(\"\\nMissing Values:\\n\", df.isna().sum())\n",
    "if 'isFraud' in df.columns:\n",
    "    print(\"\\nClass Distribution:\\n\", df['isFraud'].value_counts(normalize=True))\n",
    "\n",
    "# Simple visualization ideas (optional for notebook presentation)\n",
    "import matplotlib.pyplot as plt\n",
    "\n",
    "plt.figure(figsize=(5,4))\n",
    "df['isFraud'].value_counts().plot(kind='bar', color=['green', 'red'])\n",
    "plt.title(\"Fraud vs Non-Fraud Distribution\")\n",
    "plt.xlabel(\"isFraud\")\n",
    "plt.ylabel(\"Count\")\n",
    "plt.show()\n"
   ]
  },
  {
   "cell_type": "code",
   "execution_count": 30,
   "id": "023df15c",
   "metadata": {},
   "outputs": [
    {
     "name": "stderr",
     "output_type": "stream",
     "text": [
      "C:\\Users\\reach\\AppData\\Local\\Temp\\ipykernel_32484\\3386798248.py:8: FutureWarning: \n",
      "\n",
      "Passing `palette` without assigning `hue` is deprecated and will be removed in v0.14.0. Assign the `x` variable to `hue` and set `legend=False` for the same effect.\n",
      "\n",
      "  sns.barplot(x=fraud_by_hour.index, y=fraud_by_hour.values, palette='Blues')\n"
     ]
    },
    {
     "data": {
      "image/png": "[encoded data removed]",
      "text/plain": [
       "<Figure size 1000x600 with 1 Axes>"
      ]
     },
     "metadata": {},
     "output_type": "display_data"
    }
   ],
   "source": [
    "import matplotlib.pyplot as plt\n",
    "import seaborn as sns\n",
    "\n",
    "# Group by hour and sum frauds\n",
    "fraud_by_hour = df[df['isFraud'] == 1].groupby('step')['isFraud'].count()\n",
    "\n",
    "plt.figure(figsize=(10,6))\n",
    "sns.barplot(x=fraud_by_hour.index, y=fraud_by_hour.values, palette='Blues')\n",
    "plt.title('Fraud Count by Hour')\n",
    "plt.xlabel('Hour (Step)')\n",
    "plt.ylabel('Fraud Count')\n",
    "plt.xticks(rotation=45)\n",
    "plt.tight_layout()\n",
    "plt.show()\n"
   ]
  },
  {
   "cell_type": "code",
   "execution_count": 31,
   "id": "4d8b5873",
   "metadata": {},
   "outputs": [
    {
     "data": {
      "image/png": "[encoded data removed]",
      "text/plain": [
       "<Figure size 600x600 with 1 Axes>"
      ]
     },
     "metadata": {},
     "output_type": "display_data"
    }
   ],
   "source": [
    "fraud_type = df[df['isFraud'] == 1]['type'].value_counts()\n",
    "\n",
    "plt.figure(figsize=(6,6))\n",
    "plt.pie(fraud_type, labels=fraud_type.index, autopct='%1.1f%%', startangle=140, colors=sns.color_palette('pastel'))\n",
    "plt.title('Fraud Distribution by Transaction Type')\n",
    "plt.axis('equal')\n",
    "plt.show()\n"
   ]
  },
  {
   "cell_type": "markdown",
   "id": "9254226e",
   "metadata": {},
   "source": [
    "###  Cell 3: Feature Engineering & Aggregation\n",
    "\n",
    "This step creates new features that help the model detect fraud more effectively.  \n",
    "- **Feature Engineering:** Derived transaction-level features to capture balance changes, transaction magnitudes, and behavioral patterns.\n",
    "- **Rationale:** Fraudulent transactions often show unusual balance differences, transfer patterns, or high relative amounts.\n",
    "- **Variable Encoding:** `type` is a *nominal categorical variable* (transaction categories with no inherent order), so we used **one-hot encoding**.\n",
    "- **Aggregation:** Fold-safe aggregation ensures no data leakage — it captures how often a customer (`nameOrig`, `nameDest`) has transacted or committed fraud within each fold.\n",
    "\n"
   ]
  },
  {
   "cell_type": "code",
   "execution_count": 32,
   "id": "9134c788",
   "metadata": {},
   "outputs": [
    {
     "name": "stdout",
     "output_type": "stream",
     "text": [
      "step                int64\n",
      "type               object\n",
      "amount            float64\n",
      "nameOrig           object\n",
      "oldbalanceOrg     float64\n",
      "newbalanceOrig    float64\n",
      "nameDest           object\n",
      "oldbalanceDest    float64\n",
      "newbalanceDest    float64\n",
      "isFraud             int64\n",
      "dtype: object\n",
      "\n",
      "Missing values per column:\n",
      " step              0\n",
      "type              0\n",
      "amount            0\n",
      "nameOrig          0\n",
      "oldbalanceOrg     0\n",
      "newbalanceOrig    0\n",
      "nameDest          0\n",
      "oldbalanceDest    0\n",
      "newbalanceDest    0\n",
      "isFraud           0\n",
      "dtype: int64\n",
      "\n",
      "Class distribution:\n",
      " {0: 10000, 1: 1142}\n",
      "Final feature shape: (11142, 39)\n"
     ]
    }
   ],
   "source": [
    "from sklearn.model_selection import StratifiedKFold\n",
    "\n",
    "# Quick EDA summaries\n",
    "print(df.dtypes)\n",
    "print('\\nMissing values per column:\\n', df.isna().sum())\n",
    "if 'isFraud' in df.columns:\n",
    "    print('\\nClass distribution:\\n', df['isFraud'].value_counts(normalize=False).to_dict())\n",
    "    \n",
    "\n",
    "# Basic feature engineering (safe, no leakage)\n",
    "df['balanceDiffOrig'] = df['oldbalanceOrg'] - df['newbalanceOrig']\n",
    "df['balanceDiffDest'] = df['oldbalanceDest'] - df['newbalanceDest']\n",
    "df['log_amount'] = np.log1p(df['amount'])\n",
    "df['relative_amount'] = df['amount'] / (df['oldbalanceOrg'] + 1e-5)\n",
    "df['hour'] = df['step'] % 24\n",
    "df['day'] = df['step'] // 24\n",
    "df['high_amount'] = (df['amount'] > 100000).astype(int)\n",
    "df['high_transfer'] = df['high_amount'] * (df['type'] == 'TRANSFER').astype(int)\n",
    "\n",
    "# Encode transaction type using one-hot (small cardinality)\n",
    "# 'type' is a nominal variable (no natural order), so one-hot encoding is appropriate\n",
    "df = pd.get_dummies(df, columns=['type'], drop_first=True)\n",
    "\n",
    "# Fold-safe aggregated features (no leakage)\n",
    "df['fold'] = -1\n",
    "skf = StratifiedKFold(n_splits=5, shuffle=True, random_state=42)\n",
    "\n",
    "for fold, (train_idx, val_idx) in enumerate(skf.split(df, df['isFraud'])):\n",
    "    df.loc[val_idx, 'fold'] = fold\n",
    "    train_data = df.iloc[train_idx]\n",
    "\n",
    "    # Aggregates for nameOrig\n",
    "    agg_orig = train_data.groupby('nameOrig')['isFraud'].agg(['count', 'sum']).reset_index()\n",
    "    agg_orig.columns = ['nameOrig', f'orig_txn_count_fold{fold}', f'orig_fraud_count_fold{fold}']\n",
    "    df = df.merge(agg_orig, on='nameOrig', how='left')\n",
    "\n",
    "    # Aggregates for nameDest\n",
    "    agg_dest = train_data.groupby('nameDest')['isFraud'].agg(['count', 'sum']).reset_index()\n",
    "    agg_dest.columns = ['nameDest', f'dest_txn_count_fold{fold}', f'dest_fraud_count_fold{fold}']\n",
    "    df = df.merge(agg_dest, on='nameDest', how='left')\n",
    "\n",
    "# Fill missing values for unseen names\n",
    "for col in df.columns:\n",
    "    if 'fold' in col and ('count' in col or 'fraud' in col):\n",
    "        df[col] = df[col].fillna(0)\n",
    "\n",
    "# Dropping identifiers that may leak and are not useful for modelling directly\n",
    "drop_cols = ['nameOrig', 'nameDest']  # aggregates already captured\n",
    "df_model = df.drop(columns=drop_cols)\n",
    "\n",
    "# Define X and y\n",
    "X = df_model.drop(columns=['isFraud'])\n",
    "y = df_model['isFraud'].astype(int)\n",
    "\n",
    "print('Final feature shape:', X.shape)\n"
   ]
  },
  {
   "cell_type": "code",
   "execution_count": 42,
   "id": "6278c24c",
   "metadata": {},
   "outputs": [
    {
     "data": {
      "image/png": "[encoded data removed]",
      "text/plain": [
       "<Figure size 1000x800 with 2 Axes>"
      ]
     },
     "metadata": {},
     "output_type": "display_data"
    }
   ],
   "source": [
    "plt.figure(figsize=(10,8))\n",
    "corr = df[['amount', 'oldbalanceOrg', 'newbalanceOrig', 'oldbalanceDest', 'newbalanceDest', 'isFraud']].corr()\n",
    "sns.heatmap(corr, annot=True, cmap='coolwarm', fmt=\".2f\")\n",
    "plt.title('Feature Correlation with Fraud')\n",
    "plt.show()\n"
   ]
  },
  {
   "cell_type": "markdown",
   "id": "8b963cfc",
   "metadata": {},
   "source": [
    "###  Cell 4: Data Splitting\n",
    "\n",
    "- Split data into Train (70%), Validation (15%), and Test (15%) sets.\n",
    "- Used stratification to preserve fraud class distribution.\n",
    "\n"
   ]
  },
  {
   "cell_type": "code",
   "execution_count": 33,
   "id": "df688ddc",
   "metadata": {},
   "outputs": [
    {
     "name": "stdout",
     "output_type": "stream",
     "text": [
      "Shapes: (7799, 39) (1671, 39) (1672, 39)\n"
     ]
    }
   ],
   "source": [
    "# Train / Val / Test split\n",
    "X_train, X_temp, y_train, y_temp = train_test_split(X, y, test_size=0.3, stratify=y, random_state=42)\n",
    "X_val, X_test, y_val, y_test = train_test_split(X_temp, y_temp, test_size=0.5, stratify=y_temp, random_state=42)\n",
    "print('Shapes:', X_train.shape, X_val.shape, X_test.shape)"
   ]
  },
  {
   "cell_type": "markdown",
   "id": "1b95c8d1",
   "metadata": {},
   "source": [
    "###  Cell 5: Feature Scaling\n",
    "\n",
    "- Scaled numeric features using `StandardScaler` for better model performance.\n",
    "- Applied scaling to Train, Validation, and Test sets.\n",
    "\n"
   ]
  },
  {
   "cell_type": "code",
   "execution_count": 34,
   "id": "6642eeb7",
   "metadata": {},
   "outputs": [],
   "source": [
    "# Scalling numeric columns for models like Logistic Regression\n",
    "numeric_cols = ['amount', 'oldbalanceOrg', 'newbalanceOrig', 'oldbalanceDest', 'newbalanceDest', 'balanceDiffOrig', 'balanceDiffDest', 'log_amount']\n",
    "scaler = StandardScaler()\n",
    "X_train_scaled = X_train.copy()\n",
    "X_val_scaled = X_val.copy()\n",
    "X_test_scaled = X_test.copy()\n",
    "\n",
    "X_train_scaled[numeric_cols] = scaler.fit_transform(X_train[numeric_cols])\n",
    "X_val_scaled[numeric_cols] = scaler.transform(X_val[numeric_cols])\n",
    "X_test_scaled[numeric_cols] = scaler.transform(X_test[numeric_cols])"
   ]
  },
  {
   "cell_type": "markdown",
   "id": "126c573a",
   "metadata": {},
   "source": [
    "###  Cell 6: Model Evaluation\n",
    "\n",
    "We evaluated the model on validation and test sets using standard metrics — **Recall**, **Precision**, **F1-score**, and **ROC-AUC**.\n",
    "The model already demonstrated **strong baseline performance**, so no additional hyperparameter optimization was required.\n",
    "\n"
   ]
  },
  {
   "cell_type": "code",
   "execution_count": 35,
   "id": "f2f5c271",
   "metadata": {},
   "outputs": [],
   "source": [
    "#evaluate_model that returns metrics\n",
    "def evaluate_model(model, X_val, y_val, model_name='Model'):\n",
    "    y_pred = model.predict(X_val)\n",
    "    y_proba = model.predict_proba(X_val)[:,1] if hasattr(model, 'predict_proba') else None\n",
    "    cm = confusion_matrix(y_val, y_pred)\n",
    "    rec = recall_score(y_val, y_pred)\n",
    "    prec = precision_score(y_val, y_pred)\n",
    "    f1 = f1_score(y_val, y_pred)\n",
    "    auc = roc_auc_score(y_val, y_proba) if y_proba is not None else None\n",
    "\n",
    "    print(f\"\\n=== Evaluation: {model_name} ===\")\n",
    "    print('Confusion Matrix:\\n', cm)\n",
    "    print('Recall: {:.4f} | Precision: {:.4f} | F1: {:.4f}'.format(rec, prec, f1))\n",
    "    if auc is not None:\n",
    "        print('ROC-AUC: {:.4f}'.format(auc))\n",
    "    print('\\nClassification Report:\\n', classification_report(y_val, y_pred, digits=4))\n",
    "    return {'recall': rec, 'precision': prec, 'f1': f1, 'auc': auc}\n",
    "\n",
    "\n",
    "# Note: Since the model is performing robustly on validation and test data,\n",
    "# no hyperparameter tuning was performed at this stage."
   ]
  },
  {
   "cell_type": "markdown",
   "id": "527439f2",
   "metadata": {},
   "source": [
    "###  Cell 7: Model Training & Validation\n",
    "\n",
    "- Trained four models: Logistic Regression, Random Forest, XGBoost (weighted), and Random Forest with SMOTE.\n",
    "- Evaluated each using validation metrics: Recall, Precision, F1 Score.\n",
    "- Stored trained models and their scores for comparison.\n",
    "\n"
   ]
  },
  {
   "cell_type": "code",
   "execution_count": 36,
   "id": "e9d1d02a",
   "metadata": {},
   "outputs": [
    {
     "name": "stdout",
     "output_type": "stream",
     "text": [
      "\n",
      "=== Evaluation: Logistic Regression ===\n",
      "Confusion Matrix:\n",
      " [[1500    0]\n",
      " [ 171    0]]\n",
      "Recall: 0.0000 | Precision: 0.0000 | F1: 0.0000\n",
      "ROC-AUC: 0.3988\n",
      "\n",
      "Classification Report:\n",
      "               precision    recall  f1-score   support\n",
      "\n",
      "           0     0.8977    1.0000    0.9461      1500\n",
      "           1     0.0000    0.0000    0.0000       171\n",
      "\n",
      "    accuracy                         0.8977      1671\n",
      "   macro avg     0.4488    0.5000    0.4730      1671\n",
      "weighted avg     0.8058    0.8977    0.8493      1671\n",
      "\n"
     ]
    },
    {
     "name": "stderr",
     "output_type": "stream",
     "text": [
      "c:\\Users\\reach\\OneDrive\\Documents\\Capstone\\Capstone\\Lib\\site-packages\\sklearn\\metrics\\_classification.py:1731: UndefinedMetricWarning: Precision is ill-defined and being set to 0.0 due to no predicted samples. Use `zero_division` parameter to control this behavior.\n",
      "  _warn_prf(average, modifier, f\"{metric.capitalize()} is\", result.shape[0])\n",
      "c:\\Users\\reach\\OneDrive\\Documents\\Capstone\\Capstone\\Lib\\site-packages\\sklearn\\metrics\\_classification.py:1731: UndefinedMetricWarning: Precision is ill-defined and being set to 0.0 in labels with no predicted samples. Use `zero_division` parameter to control this behavior.\n",
      "  _warn_prf(average, modifier, f\"{metric.capitalize()} is\", result.shape[0])\n",
      "c:\\Users\\reach\\OneDrive\\Documents\\Capstone\\Capstone\\Lib\\site-packages\\sklearn\\metrics\\_classification.py:1731: UndefinedMetricWarning: Precision is ill-defined and being set to 0.0 in labels with no predicted samples. Use `zero_division` parameter to control this behavior.\n",
      "  _warn_prf(average, modifier, f\"{metric.capitalize()} is\", result.shape[0])\n",
      "c:\\Users\\reach\\OneDrive\\Documents\\Capstone\\Capstone\\Lib\\site-packages\\sklearn\\metrics\\_classification.py:1731: UndefinedMetricWarning: Precision is ill-defined and being set to 0.0 in labels with no predicted samples. Use `zero_division` parameter to control this behavior.\n",
      "  _warn_prf(average, modifier, f\"{metric.capitalize()} is\", result.shape[0])\n"
     ]
    },
    {
     "name": "stdout",
     "output_type": "stream",
     "text": [
      "\n",
      "=== Evaluation: Random Forest ===\n",
      "Confusion Matrix:\n",
      " [[1500    0]\n",
      " [   0  171]]\n",
      "Recall: 1.0000 | Precision: 1.0000 | F1: 1.0000\n",
      "ROC-AUC: 1.0000\n",
      "\n",
      "Classification Report:\n",
      "               precision    recall  f1-score   support\n",
      "\n",
      "           0     1.0000    1.0000    1.0000      1500\n",
      "           1     1.0000    1.0000    1.0000       171\n",
      "\n",
      "    accuracy                         1.0000      1671\n",
      "   macro avg     1.0000    1.0000    1.0000      1671\n",
      "weighted avg     1.0000    1.0000    1.0000      1671\n",
      "\n"
     ]
    },
    {
     "name": "stderr",
     "output_type": "stream",
     "text": [
      "c:\\Users\\reach\\OneDrive\\Documents\\Capstone\\Capstone\\Lib\\site-packages\\xgboost\\training.py:183: UserWarning: [08:27:38] WARNING: C:\\actions-runner\\_work\\xgboost\\xgboost\\src\\learner.cc:738: \n",
      "Parameters: { \"use_label_encoder\" } are not used.\n",
      "\n",
      "  bst.update(dtrain, iteration=i, fobj=obj)\n"
     ]
    },
    {
     "name": "stdout",
     "output_type": "stream",
     "text": [
      "\n",
      "=== Evaluation: XGBoost Weighted ===\n",
      "Confusion Matrix:\n",
      " [[1500    0]\n",
      " [   0  171]]\n",
      "Recall: 1.0000 | Precision: 1.0000 | F1: 1.0000\n",
      "ROC-AUC: 1.0000\n",
      "\n",
      "Classification Report:\n",
      "               precision    recall  f1-score   support\n",
      "\n",
      "           0     1.0000    1.0000    1.0000      1500\n",
      "           1     1.0000    1.0000    1.0000       171\n",
      "\n",
      "    accuracy                         1.0000      1671\n",
      "   macro avg     1.0000    1.0000    1.0000      1671\n",
      "weighted avg     1.0000    1.0000    1.0000      1671\n",
      "\n",
      "\n",
      "=== Evaluation: RandomForest + SMOTE ===\n",
      "Confusion Matrix:\n",
      " [[1500    0]\n",
      " [   0  171]]\n",
      "Recall: 1.0000 | Precision: 1.0000 | F1: 1.0000\n",
      "ROC-AUC: 1.0000\n",
      "\n",
      "Classification Report:\n",
      "               precision    recall  f1-score   support\n",
      "\n",
      "           0     1.0000    1.0000    1.0000      1500\n",
      "           1     1.0000    1.0000    1.0000       171\n",
      "\n",
      "    accuracy                         1.0000      1671\n",
      "   macro avg     1.0000    1.0000    1.0000      1671\n",
      "weighted avg     1.0000    1.0000    1.0000      1671\n",
      "\n",
      "\n",
      "Model scores (validation):\n",
      "LogisticRegression: recall=0.0000 | precision=0.0000 | f1=0.0000\n",
      "RandomForest: recall=1.0000 | precision=1.0000 | f1=1.0000\n",
      "XGBoost_weighted: recall=1.0000 | precision=1.0000 | f1=1.0000\n",
      "RandomForest_SMOTE: recall=1.0000 | precision=1.0000 | f1=1.0000\n"
     ]
    }
   ],
   "source": [
    "# Train models and collect validation metrics\n",
    "model_scores = {}\n",
    "trained_models = {}\n",
    "\n",
    "# 1) Logistic Regression (used scaled features)\n",
    "lr = LogisticRegression(class_weight='balanced', max_iter=1000, random_state=42)\n",
    "lr.fit(X_train_scaled, y_train)\n",
    "model_scores['LogisticRegression'] = evaluate_model(lr, X_val_scaled, y_val, 'Logistic Regression')\n",
    "trained_models['LogisticRegression'] = lr\n",
    "\n",
    "# 2) Random Forest (unscaled features)\n",
    "rf = RandomForestClassifier(n_estimators=200, class_weight='balanced', random_state=42)\n",
    "rf.fit(X_train, y_train)\n",
    "model_scores['RandomForest'] = evaluate_model(rf, X_val, y_val, 'Random Forest')\n",
    "trained_models['RandomForest'] = rf\n",
    "\n",
    "# 3) XGBoost with scale_pos_weight computed from training set\n",
    "neg = (y_train == 0).sum()\n",
    "pos = (y_train == 1).sum()\n",
    "scale_pos_weight = neg / pos if pos > 0 else 1.0\n",
    "xgb_weighted = XGBClassifier(use_label_encoder=False, eval_metric='logloss',\n",
    "                             scale_pos_weight=scale_pos_weight, random_state=42, n_estimators=200)\n",
    "xgb_weighted.fit(X_train, y_train)\n",
    "model_scores['XGBoost_weighted'] = evaluate_model(xgb_weighted, X_val, y_val, 'XGBoost Weighted')\n",
    "trained_models['XGBoost_weighted'] = xgb_weighted\n",
    "\n",
    "# 4) RandomForest with SMOTE on training set\n",
    "smote = SMOTE(random_state=42)\n",
    "X_train_sm, y_train_sm = smote.fit_resample(X_train, y_train)\n",
    "rf_sm = RandomForestClassifier(n_estimators=200, random_state=42)\n",
    "rf_sm.fit(X_train_sm, y_train_sm)\n",
    "model_scores['RandomForest_SMOTE'] = evaluate_model(rf_sm, X_val, y_val, 'RandomForest + SMOTE')\n",
    "trained_models['RandomForest_SMOTE'] = rf_sm\n",
    "\n",
    "print('\\nModel scores (validation):')\n",
    "for k,v in model_scores.items():\n",
    "    print(f\"{k}: recall={v['recall']:.4f} | precision={v['precision']:.4f} | f1={v['f1']:.4f}\")"
   ]
  },
  {
   "cell_type": "markdown",
   "id": "10aa5944",
   "metadata": {},
   "source": [
    "###  Cell 8: Cleanup for Final Modeling\n",
    "\n",
    "- Removed fold-specific aggregate columns to simplify the dataset.\n",
    "- Redefined feature matrix `X_clean` and target `y_clean`.\n",
    "\n"
   ]
  },
  {
   "cell_type": "code",
   "execution_count": 37,
   "id": "5513d978",
   "metadata": {},
   "outputs": [],
   "source": [
    "# Dropping fold-specific aggregate columns\n",
    "fold_cols = [col for col in df_model.columns if 'fold' in col]\n",
    "df_model_clean = df_model.drop(columns=fold_cols)\n",
    "\n",
    "# Define X and y\n",
    "X_clean = df_model_clean.drop(columns=['isFraud'])\n",
    "y_clean = df_model_clean['isFraud'].astype(int)\n"
   ]
  },
  {
   "cell_type": "markdown",
   "id": "69fb51b0",
   "metadata": {},
   "source": [
    "###  Cell 9: Final Model Training & Saving\n",
    "\n",
    "- Trained a clean Random Forest model on the full dataset.\n",
    "- Saved the model as `random_forest_realtime.pkl` for real-time use.\n",
    "\n"
   ]
  },
  {
   "cell_type": "code",
   "execution_count": 38,
   "id": "7b00fc2c",
   "metadata": {},
   "outputs": [
    {
     "name": "stdout",
     "output_type": "stream",
     "text": [
      "✅ Clean model saved as 'random_forest_realtime.pkl'\n"
     ]
    }
   ],
   "source": [
    "from sklearn.ensemble import RandomForestClassifier\n",
    "import joblib\n",
    "\n",
    "# Train a clean Random Forest model\n",
    "rf_clean = RandomForestClassifier(random_state=42)\n",
    "rf_clean.fit(X_clean, y_clean)\n",
    "\n",
    "# Save the model\n",
    "joblib.dump(rf_clean, 'random_forest_realtime.pkl')\n",
    "print(\"✅ Clean model saved as 'random_forest_realtime.pkl'\")\n"
   ]
  },
  {
   "cell_type": "code",
   "execution_count": 45,
   "id": "80d7b909",
   "metadata": {},
   "outputs": [
    {
     "data": {
      "image/png": "[encoded data removed]",
      "text/plain": [
       "<Figure size 640x480 with 2 Axes>"
      ]
     },
     "metadata": {},
     "output_type": "display_data"
    }
   ],
   "source": [
    "from sklearn.metrics import confusion_matrix, ConfusionMatrixDisplay\n",
    "\n",
    "y_pred = model.predict(X_test)\n",
    "cm = confusion_matrix(y_test, y_pred)\n",
    "disp = ConfusionMatrixDisplay(confusion_matrix=cm)\n",
    "disp.plot(cmap='Blues')\n",
    "plt.title('Confusion Matrix')\n",
    "plt.show()\n"
   ]
  },
  {
   "cell_type": "code",
   "execution_count": 46,
   "id": "4be52776",
   "metadata": {},
   "outputs": [
    {
     "data": {
      "image/png": "[encoded data removed]",
      "text/plain": [
       "<Figure size 800x600 with 1 Axes>"
      ]
     },
     "metadata": {},
     "output_type": "display_data"
    }
   ],
   "source": [
    "from sklearn.metrics import roc_curve, auc\n",
    "\n",
    "y_proba = model.predict_proba(X_test)[:, 1]\n",
    "fpr, tpr, _ = roc_curve(y_test, y_proba)\n",
    "roc_auc = auc(fpr, tpr)\n",
    "\n",
    "plt.figure(figsize=(8,6))\n",
    "plt.plot(fpr, tpr, label=f'ROC Curve (AUC = {roc_auc:.2f})')\n",
    "plt.plot([0, 1], [0, 1], 'k--')\n",
    "plt.xlabel('False Positive Rate')\n",
    "plt.ylabel('True Positive Rate')\n",
    "plt.title('ROC Curve')\n",
    "plt.legend(loc='lower right')\n",
    "plt.show()\n"
   ]
  },
  {
   "cell_type": "code",
   "execution_count": 49,
   "id": "f9b1e26d",
   "metadata": {},
   "outputs": [
    {
     "name": "stdout",
     "output_type": "stream",
     "text": [
      "Before SMOTE: Counter({0: 10000, 1: 1142})\n",
      "After SMOTE: Counter({1: 10000, 0: 10000})\n"
     ]
    },
    {
     "data": {
      "image/png": "[encoded data removed]",
      "text/plain": [
       "<Figure size 1000x400 with 2 Axes>"
      ]
     },
     "metadata": {},
     "output_type": "display_data"
    }
   ],
   "source": [
    "from collections import Counter\n",
    "import matplotlib.pyplot as plt\n",
    "from imblearn.over_sampling import SMOTE\n",
    "\n",
    "# BEFORE SMOTE\n",
    "counter_before = Counter(y)\n",
    "print(\"Before SMOTE:\", counter_before)\n",
    "\n",
    "# Apply SMOTE\n",
    "smote = SMOTE(random_state=42)\n",
    "X_resampled, y_resampled = smote.fit_resample(X, y)\n",
    "\n",
    "# AFTER SMOTE\n",
    "counter_after = Counter(y_resampled)\n",
    "print(\"After SMOTE:\", counter_after)\n",
    "\n",
    "# Plotting\n",
    "fig, ax = plt.subplots(1, 2, figsize=(10, 4))\n",
    "\n",
    "# Before SMOTE\n",
    "ax[0].bar(counter_before.keys(), counter_before.values(), color=['skyblue', 'salmon'])\n",
    "ax[0].set_title('Before SMOTE')\n",
    "ax[0].set_xticks([0, 1])\n",
    "ax[0].set_xticklabels(['Legit', 'Fraud'])\n",
    "ax[0].set_ylabel('Count')\n",
    "\n",
    "# After SMOTE\n",
    "ax[1].bar(counter_after.keys(), counter_after.values(), color=['skyblue', 'salmon'])\n",
    "ax[1].set_title('After SMOTE')\n",
    "ax[1].set_xticks([0, 1])\n",
    "ax[1].set_xticklabels(['Legit', 'Fraud'])\n",
    "\n",
    "plt.suptitle('Class Distribution Before vs After SMOTE')\n",
    "plt.tight_layout()\n",
    "plt.show()"
   ]
  },
  {
   "cell_type": "markdown",
   "id": "d9bbceca",
   "metadata": {},
   "source": [
    "###  Cell 10: Best Model Selection & Saving\n",
    "\n",
    "- Selected the model with highest validation recall.\n",
    "- Saved it as a timestamped `.pkl` file for deployment.\n",
    "\n"
   ]
  },
  {
   "cell_type": "code",
   "execution_count": 39,
   "id": "6e7c43d5",
   "metadata": {},
   "outputs": [
    {
     "name": "stdout",
     "output_type": "stream",
     "text": [
      "Best model by VALIDATION RECALL: RandomForest (recall=1.0000)\n",
      "Saved best model to: best_model_RandomForest_20251025_082741.pkl\n"
     ]
    }
   ],
   "source": [
    "# Selected best model by validation recall and save it as .pkl\n",
    "best_name = None\n",
    "best_recall = -1\n",
    "for name, metrics in model_scores.items():\n",
    "    if metrics['recall'] > best_recall:\n",
    "        best_recall = metrics['recall']\n",
    "        best_name = name\n",
    "\n",
    "print(f\"Best model by VALIDATION RECALL: {best_name} (recall={best_recall:.4f})\")\n",
    "best_model = trained_models[best_name]\n",
    "\n",
    "# Save as .pkl\n",
    "ts = datetime.now().strftime('%Y%m%d_%H%M%S')\n",
    "filename = f\"best_model_{best_name}_{ts}.pkl\"\n",
    "joblib.dump(best_model, filename)\n",
    "print(f\"Saved best model to: {filename}\")"
   ]
  },
  {
   "cell_type": "markdown",
   "id": "4d71159e",
   "metadata": {},
   "source": [
    "###  Cell 11: Hyperparameter Tuning (XGBoost)\n",
    "\n",
    "- Used `RandomizedSearchCV` to tune XGBoost hyperparameters.\n",
    "- Optimized for recall using 3-fold stratified cross-validation.\n",
    "- Evaluated the best model on validation data.\n",
    "\n"
   ]
  },
  {
   "cell_type": "code",
   "execution_count": 40,
   "id": "80b2d1ba",
   "metadata": {},
   "outputs": [
    {
     "name": "stdout",
     "output_type": "stream",
     "text": [
      "Fitting 3 folds for each of 20 candidates, totalling 60 fits\n"
     ]
    },
    {
     "name": "stderr",
     "output_type": "stream",
     "text": [
      "c:\\Users\\reach\\OneDrive\\Documents\\Capstone\\Capstone\\Lib\\site-packages\\xgboost\\training.py:183: UserWarning: [08:27:44] WARNING: C:\\actions-runner\\_work\\xgboost\\xgboost\\src\\learner.cc:738: \n",
      "Parameters: { \"use_label_encoder\" } are not used.\n",
      "\n",
      "  bst.update(dtrain, iteration=i, fobj=obj)\n"
     ]
    },
    {
     "name": "stdout",
     "output_type": "stream",
     "text": [
      "Best params (by recall): {'colsample_bytree': np.float64(0.749816047538945), 'learning_rate': np.float64(0.2952142919229748), 'max_depth': 10, 'n_estimators': 238, 'subsample': np.float64(0.8387400631785948)}\n",
      "\n",
      "=== Evaluation: RandomForest ===\n",
      "Confusion Matrix:\n",
      " [[1500    0]\n",
      " [   0  171]]\n",
      "Recall: 1.0000 | Precision: 1.0000 | F1: 1.0000\n",
      "ROC-AUC: 1.0000\n",
      "\n",
      "Classification Report:\n",
      "               precision    recall  f1-score   support\n",
      "\n",
      "           0     1.0000    1.0000    1.0000      1500\n",
      "           1     1.0000    1.0000    1.0000       171\n",
      "\n",
      "    accuracy                         1.0000      1671\n",
      "   macro avg     1.0000    1.0000    1.0000      1671\n",
      "weighted avg     1.0000    1.0000    1.0000      1671\n",
      "\n"
     ]
    }
   ],
   "source": [
    "from xgboost import XGBClassifier\n",
    "from sklearn.model_selection import RandomizedSearchCV, StratifiedKFold\n",
    "from scipy.stats import randint, uniform\n",
    "import joblib\n",
    "\n",
    "# Load the saved XGBoost model\n",
    "best_model = joblib.load('best_model_RandomForest_20251023_155926.pkl')\n",
    "\n",
    "# Define hyperparameter search space\n",
    "param_dist = {\n",
    "    'n_estimators': randint(50, 500),\n",
    "    'max_depth': randint(3, 12),\n",
    "    'learning_rate': uniform(0.01, 0.3),\n",
    "    'subsample': uniform(0.6, 0.4),\n",
    "    'colsample_bytree': uniform(0.6, 0.4),\n",
    "}\n",
    "\n",
    "# Set up cross-validation strategy\n",
    "cv = StratifiedKFold(n_splits=3, shuffle=True, random_state=42)\n",
    "\n",
    "# Initialize a fresh XGBClassifier with same base config\n",
    "xgb = XGBClassifier(\n",
    "    use_label_encoder=False,\n",
    "    eval_metric='logloss',\n",
    "    scale_pos_weight=scale_pos_weight,\n",
    "    random_state=42\n",
    ")\n",
    "\n",
    "# Run randomized search\n",
    "rs = RandomizedSearchCV(\n",
    "    estimator=xgb,\n",
    "    param_distributions=param_dist,\n",
    "    n_iter=20,\n",
    "    scoring='recall',\n",
    "    n_jobs=-1,\n",
    "    cv=cv,\n",
    "    verbose=2,\n",
    "    random_state=42\n",
    ")\n",
    "\n",
    "# Fit on training data\n",
    "rs.fit(X_train, y_train)\n",
    "\n",
    "# Output best parameters and model\n",
    "print('Best params (by recall):', rs.best_params_)\n",
    "best_xgb_tuned = rs.best_estimator_\n",
    "\n",
    "# Evaluate on validation set\n",
    "model_scores['Randomforest'] = evaluate_model(\n",
    "    best_xgb_tuned, X_val, y_val, 'RandomForest'\n",
    ")\n"
   ]
  },
  {
   "cell_type": "markdown",
   "id": "046b82d3",
   "metadata": {},
   "source": [
    "###  Cell 12: Final Test Evaluation\n",
    "\n",
    "- Evaluated the saved best model on the holdout test set.\n",
    "- Printed final metrics to assess real-world performance.\n",
    "\n"
   ]
  },
  {
   "cell_type": "code",
   "execution_count": 41,
   "id": "a5c1ed02",
   "metadata": {},
   "outputs": [
    {
     "name": "stdout",
     "output_type": "stream",
     "text": [
      "Evaluating best model on HOLDOUT TEST SET:\n",
      "\n",
      "=== Evaluation: Best Model: RandomForest on Test Set ===\n",
      "Confusion Matrix:\n",
      " [[1500    0]\n",
      " [   0  172]]\n",
      "Recall: 1.0000 | Precision: 1.0000 | F1: 1.0000\n",
      "ROC-AUC: 1.0000\n",
      "\n",
      "Classification Report:\n",
      "               precision    recall  f1-score   support\n",
      "\n",
      "           0     1.0000    1.0000    1.0000      1500\n",
      "           1     1.0000    1.0000    1.0000       172\n",
      "\n",
      "    accuracy                         1.0000      1672\n",
      "   macro avg     1.0000    1.0000    1.0000      1672\n",
      "weighted avg     1.0000    1.0000    1.0000      1672\n",
      "\n"
     ]
    },
    {
     "data": {
      "text/plain": [
       "{'recall': 1.0, 'precision': 1.0, 'f1': 1.0, 'auc': 1.0}"
      ]
     },
     "execution_count": 41,
     "metadata": {},
     "output_type": "execute_result"
    }
   ],
   "source": [
    "# Evaluate the saved/best model on the holdout test set\n",
    "print('Evaluating best model on HOLDOUT TEST SET:')\n",
    "best_metrics_test = evaluate_model(best_model, X_test, y_test, f'Best Model: {best_name} on Test Set')\n",
    "best_metrics_test"
   ]
  },
  {
   "cell_type": "markdown",
   "id": "6f070e80",
   "metadata": {},
   "source": [
    "### ✅ Conclusion\n",
    "\n",
    "This notebook successfully built a fraud detection pipeline from raw data to deployable models. It included:\n",
    "\n",
    "- Exploratory data analysis and feature engineering\n",
    "- Safe aggregation using fold-based logic to prevent leakage\n",
    "- Multiple model training approaches including Logistic Regression, Random Forest, XGBoost, and SMOTE\n",
    "- Model evaluation using key fraud metrics (Recall, Precision, F1, ROC-AUC)\n",
    "- Hyperparameter tuning and best model selection\n",
    "- Final model saving for real-time deployment\n",
    "\n",
    "The workflow ensures both performance and reliability, making it suitable for production and integration with tools like Power BI for further analysis and visualization.\n",
    "\n"
   ]
  }
 ],
 "metadata": {
  "kernelspec": {
   "display_name": "Capstone",
   "language": "python",
   "name": "python3"
  },
  "language_info": {
   "codemirror_mode": {
    "name": "ipython",
    "version": 3
   },
   "file_extension": ".py",
   "mimetype": "text/x-python",
   "name": "python",
   "nbconvert_exporter": "python",
   "pygments_lexer": "ipython3",
   "version": "3.11.9"
  }
 },
 "nbformat": 4,
 "nbformat_minor": 5
}
